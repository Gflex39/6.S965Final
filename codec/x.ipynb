{
 "cells": [
  {
   "cell_type": "markdown",
   "metadata": {},
   "source": [
    "**Resources**\n",
    "- [H.264 Book](https://last.hit.bme.hu/download/vidtech/k%C3%B6nyvek/Iain%20E.%20Richardson%20-%20H264%20\\(2nd%20edition\\).pdf)\n",
    "- [Digital Video Introduction](https://github.com/leandromoreira/digital_video_introduction)\n",
    "- [JPEG: A Signal Processing Approach](https://www.youtube.com/watch?v=0me3guauqOU&t=1735s)\n",
    "- [JPEG spec](https://www.w3.org/Graphics/JPEG/itu-t81.pdf)\n",
    "- [Purdue JPEG Lab](https://engineering.purdue.edu/~bouman/grad-labs/JPEG-Image-Coding/pdf/lab.pdf)"
   ]
  },
  {
   "cell_type": "markdown",
   "metadata": {},
   "source": [
    "## Frames"
   ]
  },
  {
   "cell_type": "code",
   "execution_count": null,
   "metadata": {},
   "outputs": [],
   "source": [
    "import ffmpeg\n",
    "import numpy as np\n",
    "import pandas as pd\n",
    "from matplotlib import pyplot as plt\n",
    "from bitstring import BitStream, Bits\n",
    "from typing import Optional\n",
    "from rich.traceback import install\n",
    "import cv2\n",
    "\n",
    "%matplotlib inline"
   ]
  },
  {
   "cell_type": "code",
   "execution_count": null,
   "metadata": {},
   "outputs": [],
   "source": [
    "# install(show_locals=True, suppress=[np,pd,cv2,ffmpeg,plt])"
   ]
  },
  {
   "cell_type": "code",
   "execution_count": null,
   "metadata": {},
   "outputs": [],
   "source": [
    "def get_video_stats(filename):\n",
    "    probe = ffmpeg.probe(filename)\n",
    "    video_stream = next((stream for stream in probe['streams'] if stream['codec_type'] == 'video'), None)\n",
    "    if video_stream:\n",
    "        return int(video_stream['width']), int(video_stream['height']), int(video_stream['avg_frame_rate'].split('/')[0])\n",
    "    else:\n",
    "        return None, None, None\n",
    "\n",
    "def frame(i):\n",
    "    width, height, fps = get_video_stats('data/test.mov')\n",
    "    out, _ = (\n",
    "        ffmpeg\n",
    "        .input('data/test.mov', ss=i/fps)\n",
    "        .output('pipe:', vframes=1, format='rawvideo', pix_fmt='rgb24')\n",
    "        .run(capture_stdout=True, capture_stderr=True)\n",
    "    )\n",
    "    return np.frombuffer(out, np.uint8).reshape([height, width, 3])"
   ]
  },
  {
   "cell_type": "code",
   "execution_count": null,
   "metadata": {},
   "outputs": [],
   "source": [
    "plt.matshow(frame(400));"
   ]
  },
  {
   "cell_type": "markdown",
   "metadata": {},
   "source": [
    "## Chroma Subsampling"
   ]
  },
  {
   "cell_type": "code",
   "execution_count": null,
   "metadata": {},
   "outputs": [],
   "source": [
    "def subsample(yuv: np.ndarray) -> np.ndarray:\n",
    "    y = yuv[:,:,0]\n",
    "    u = yuv[::2,::2,1]\n",
    "    v = yuv[::2,::2,2]\n",
    "    return y,u,v\n",
    "\n",
    "def rgb2yuv(rgb):\n",
    "    yuv = cv2.cvtColor(rgb, cv2.COLOR_RGB2YUV)\n",
    "    return subsample(yuv.astype(np.uint8))"
   ]
  },
  {
   "cell_type": "code",
   "execution_count": null,
   "metadata": {},
   "outputs": [],
   "source": [
    "def yuv2rgb(y,u,v):\n",
    "    u = u.repeat(2, axis=0).repeat(2, axis=1)\n",
    "    v = v.repeat(2, axis=0).repeat(2, axis=1)\n",
    "    yuv = np.dstack((y,u,v))\n",
    "    print(yuv.shape)\n",
    "    rgb = cv2.cvtColor(yuv, cv2.COLOR_YUV2RGB)\n",
    "    return rgb.astype(np.uint8)"
   ]
  },
  {
   "cell_type": "code",
   "execution_count": null,
   "metadata": {},
   "outputs": [],
   "source": [
    "def plot_yuv(*yuv):\n",
    "    y,u,v = yuv\n",
    "    _, ax = plt.subplots(1,3, figsize=(12,4))\n",
    "    ax[0].matshow(y, label='Y', cmap='grey')\n",
    "    ax[0].title.set_text('Y')\n",
    "    ax[1].matshow(u, label='U', cmap='Blues')\n",
    "    ax[1].title.set_text('U')\n",
    "    ax[2].matshow(v, label='V', cmap='Reds')\n",
    "    ax[2].title.set_text('V')\n",
    "    plt.show()"
   ]
  },
  {
   "cell_type": "code",
   "execution_count": null,
   "metadata": {},
   "outputs": [],
   "source": [
    "plot_yuv(*rgb2yuv(frame(400)))"
   ]
  },
  {
   "cell_type": "markdown",
   "metadata": {},
   "source": [
    "## Transform + Quantization"
   ]
  },
  {
   "cell_type": "code",
   "execution_count": null,
   "metadata": {},
   "outputs": [],
   "source": [
    "def M(QP: int) -> np.ndarray:\n",
    "    m0 = [13107,11916,10082,9362,8192,7282][QP%6]\n",
    "    m1 = [5243,4660,4194,3647,3355,2893][QP%6]\n",
    "    m2 = [8066,7490,6554,5825,5243,4559][QP%6]\n",
    "    return np.array([[m0,m2,m0,m2],[m2,m1,m2,m1],[m0,m2,m0,m2],[m2,m1,m2,m1]])\n",
    "\n",
    "def transform(X: np.ndarray, QP=6) -> np.ndarray:\n",
    "    C = np.array([[1,1,1,1],[2,1,-1,-2],[1,-1,-1,1],[1,-2,2,-1]])\n",
    "    return np.fix(((C@X@C.T*M(QP)))/(2.**(15+(QP//6)))).astype(np.int64)\n"
   ]
  },
  {
   "cell_type": "code",
   "execution_count": null,
   "metadata": {},
   "outputs": [],
   "source": [
    "def V(QP: int) -> np.ndarray:\n",
    "    v0 = [10,11,13,14,16,18][QP%6]\n",
    "    v1 = [16,18,20,23,25,29][QP%6]\n",
    "    v2 = [13,14,16,18,20,23][QP%6]\n",
    "    return np.array([[v0,v2,v0,v2],[v2,v1,v2,v1],[v0,v2,v0,v2],[v2,v1,v2,v1]])\n",
    "\n",
    "def inverse_transform(Y: np.ndarray, QP=6) -> np.ndarray:\n",
    "    C = np.array([[1,1,1,1],[1,.5,-.5,-1],[1,-1,-1,1],[.5,-1,1,-.5]])\n",
    "    return (((C.T@((Y*V(QP))<<(QP//6))@C).astype(np.int64)))>>6"
   ]
  },
  {
   "cell_type": "code",
   "execution_count": null,
   "metadata": {},
   "outputs": [],
   "source": [
    "QP = 16\n",
    "X = np.array([[58,64,51,58],[52,64,56,66],[62,63,61,64],[59,51,63,69]])\n",
    "# X = (np.random.random((4,4))*256).astype(np.int64)\n",
    "Y = transform(X, QP)\n",
    "Z = inverse_transform(Y, QP)\n",
    "\n",
    "# graph X and Y on two subplots with colorbars\n",
    "fig, ax = plt.subplots(1,3, figsize=(12,4))\n",
    "ax[0].title.set_text('X')\n",
    "ax[1].title.set_text('$X^{{-1}}$')\n",
    "ax[2].title.set_text('$X$')\n",
    "fig.colorbar(ax[0].matshow(X), ax=ax[0])\n",
    "fig.colorbar(ax[1].matshow(Y), ax=ax[1])\n",
    "fig.colorbar(ax[2].matshow(Z), ax=ax[2])\n",
    "plt.show()\n",
    "\n",
    "X, Y, Z"
   ]
  },
  {
   "cell_type": "markdown",
   "metadata": {},
   "source": [
    "## Quantize Frame"
   ]
  },
  {
   "cell_type": "code",
   "execution_count": null,
   "metadata": {},
   "outputs": [],
   "source": [
    "def quantize_frame(image, QP=6):\n",
    "    height, width = image.shape\n",
    "    h_blocks, w_blocks = height // 4, width // 4\n",
    "    blocks = image.reshape(h_blocks, 4, w_blocks, 4)\n",
    "    blocks = blocks.transpose(0, 2, 1, 3).reshape(-1, 4, 4)\n",
    "    output = inverse_transform(transform(blocks, QP), QP)\n",
    "    result = output.reshape(h_blocks, w_blocks, 4, 4)\n",
    "    result = result.transpose(0, 2, 1, 3).reshape(height, width)\n",
    "    return result"
   ]
  },
  {
   "cell_type": "code",
   "execution_count": null,
   "metadata": {},
   "outputs": [],
   "source": [
    "y, _, _ = rgb2yuv(frame(404))\n",
    "y_q = quantize_frame(y,QP=24)\n",
    "\n",
    "fig, ax = plt.subplots(1,2, figsize=(12,4))\n",
    "ax[0].title.set_text('y')\n",
    "ax[1].title.set_text('y_q')\n",
    "fig.colorbar(ax[0].matshow(y), ax=ax[0])\n",
    "fig.colorbar(ax[1].matshow(y_q), ax=ax[1])\n",
    "plt.show()"
   ]
  },
  {
   "cell_type": "markdown",
   "metadata": {},
   "source": [
    "## Entropy Coding"
   ]
  },
  {
   "cell_type": "code",
   "execution_count": null,
   "metadata": {},
   "outputs": [],
   "source": [
    "# Create index arrays for rows and columns\n",
    "z_rows = np.array([0,0,1,2,1,0,0,1,2,3,3,2,1,2,3,3])\n",
    "z_cols = np.array([0,1,0,0,1,2,3,2,1,0,1,2,3,3,2,3])\n",
    "\n",
    "def zigzag(X: np.ndarray) -> np.ndarray:\n",
    "    return X[z_rows, z_cols]\n",
    "\n",
    "def unzigzag(Y: np.ndarray) -> np.ndarray:\n",
    "    X = np.zeros((4,4), dtype=np.int16)\n",
    "    for i in range(16):\n",
    "        X[z_rows[i], z_cols[i]] = Y[i]\n",
    "    return X"
   ]
  },
  {
   "cell_type": "code",
   "execution_count": null,
   "metadata": {},
   "outputs": [],
   "source": [
    "def load_lookup(path):\n",
    "    lookup = pd.read_csv(path, dtype=str, skipinitialspace=True)['Code'].to_numpy(dtype=str)\n",
    "    rev_lookup = {str(v) : i for i, v in enumerate(lookup)}\n",
    "    return lookup, rev_lookup"
   ]
  },
  {
   "cell_type": "code",
   "execution_count": null,
   "metadata": {},
   "outputs": [],
   "source": [
    "luma_dc, rev_luma_dc        = load_lookup('data/k3.csv')\n",
    "chroma_dc, rev_chroma_dc    = load_lookup('data/k4.csv')\n",
    "luma_ac, rev_luma_ac        = load_lookup('data/k5.csv')\n",
    "chroma_ac, rev_chroma_ac    = load_lookup('data/k6.csv')"
   ]
  },
  {
   "cell_type": "code",
   "execution_count": null,
   "metadata": {},
   "outputs": [],
   "source": [
    "def entropy_code_dc(dc: np.ndarray, luma: bool, s: BitStream):\n",
    "    lookup = luma_dc if luma else chroma_dc\n",
    "    width = int(np.ceil(np.log2(np.abs(dc)+1)))\n",
    "    x = ((dc-1 if dc < 0 else dc)&((1<<width)-1))\n",
    "    size = lookup[width]\n",
    "    s.append(Bits(bin=size))\n",
    "    if width > 0:\n",
    "        s.append(Bits(uint=x, length=width))\n",
    "    return s\n",
    "\n",
    "def entropy_code_ac(ac: np.ndarray, luma: bool, s: BitStream):\n",
    "    lookup = luma_ac if luma else chroma_ac\n",
    "    i = 0\n",
    "    zc = 0\n",
    "    EOB = lookup[0]\n",
    "\n",
    "    while i < len(ac):\n",
    "        if ac[i] == 0:\n",
    "            zc += 1\n",
    "        else:\n",
    "            x = ac[i]\n",
    "            width = int(np.ceil(np.log2(np.abs(x)+1)))\n",
    "            x = ((x-1 if x < 0 else x)&((1<<width)-1))\n",
    "            run_size = lookup[1+zc*10+(width-1)]\n",
    "            s.append(Bits(bin=run_size))\n",
    "            if width > 0:\n",
    "                s.append(Bits(uint=x, length=width))\n",
    "            zc = 0\n",
    "        i += 1\n",
    "\n",
    "    s.append(Bits(bin=EOB))\n",
    "\n",
    "    return s\n",
    "\n",
    "def entropy_code_block(block: np.ndarray, luma: bool, s: BitStream):\n",
    "    z = zigzag(block)\n",
    "    s = entropy_code_dc(z[0], luma, s)\n",
    "    s = entropy_code_ac(z[1:], luma, s)\n",
    "    return s"
   ]
  },
  {
   "cell_type": "code",
   "execution_count": null,
   "metadata": {},
   "outputs": [],
   "source": [
    "ys = entropy_code_block(Y, True, BitStream())\n",
    "ys.bits"
   ]
  },
  {
   "cell_type": "code",
   "execution_count": null,
   "metadata": {},
   "outputs": [],
   "source": [
    "def encode_plane(plane: np.ndarray, QP: int, luma: bool, s: BitStream) -> BitStream:\n",
    "    height, width = plane.shape\n",
    "    h_blocks, w_blocks = height // 4, width // 4\n",
    "    # numpy broadcasting for vectorization\n",
    "    blocks = plane.reshape(h_blocks, 4, w_blocks, 4)\n",
    "    blocks = blocks.transpose(0, 2, 1, 3).reshape(-1, 4, 4)\n",
    "    # integer transform\n",
    "    xform = transform(blocks, QP)\n",
    "    # delta encoding\n",
    "    xform[1:,0,0] = xform[1:,0,0] - xform[:-1,0,0]\n",
    "    # entropy coding\n",
    "    for block in xform:\n",
    "        s =entropy_code_block(block, luma, s)\n",
    "    return s\n",
    "\n",
    "def encode_frame(frame: np.ndarray, QP: int) -> BitStream:\n",
    "    s = BitStream()\n",
    "    y, u, v = rgb2yuv(frame)\n",
    "    s = encode_plane(y, QP, True, s)\n",
    "    s = encode_plane(u, QP, False, s)\n",
    "    s = encode_plane(v, QP, False, s)\n",
    "    rem = 8-(len(s)%8)\n",
    "    if rem < 8:\n",
    "        s.append(Bits(uint=0,length=rem))\n",
    "    return s"
   ]
  },
  {
   "cell_type": "code",
   "execution_count": null,
   "metadata": {},
   "outputs": [],
   "source": [
    "F = frame(404)\n",
    "F.shape"
   ]
  },
  {
   "cell_type": "code",
   "execution_count": null,
   "metadata": {},
   "outputs": [],
   "source": [
    "E = encode_frame(F, 24)"
   ]
  },
  {
   "cell_type": "code",
   "execution_count": null,
   "metadata": {},
   "outputs": [],
   "source": [
    "print(f\"number of bits: {len(E)}\")\n",
    "print(f\"compression rate: {len(E) / (1280*720*3*8) :.2%}\")"
   ]
  },
  {
   "cell_type": "markdown",
   "metadata": {},
   "source": [
    "## Entropy Decoding"
   ]
  },
  {
   "cell_type": "code",
   "execution_count": null,
   "metadata": {},
   "outputs": [],
   "source": [
    "def entropy_decode_dc(s: BitStream, luma: bool) -> np.int16:\n",
    "    lookup = rev_luma_dc if luma else rev_chroma_dc\n",
    "    size = 0\n",
    "    i = 0\n",
    "\n",
    "    while True:\n",
    "        size_buf = s.peek(i)\n",
    "        if size_buf.bin in lookup:\n",
    "            size = lookup[size_buf.bin]\n",
    "            s.read(i)\n",
    "            break\n",
    "        i += 1\n",
    "\n",
    "    if size > 0:\n",
    "        dc = s.read(size).uint\n",
    "        dc = dc if dc >= (1 << (size-1)) else (dc - (1 << (size)) + 1)\n",
    "        return dc\n",
    "\n",
    "    return 0\n",
    "\n",
    "def entropy_decode_ac(s: BitStream, luma: bool) -> np.ndarray:\n",
    "    lookup = rev_luma_ac if luma else rev_chroma_ac\n",
    "    out = np.zeros(15, dtype=np.int16)\n",
    "    c = 0\n",
    "    run_size = 0\n",
    "\n",
    "    while True:\n",
    "        i = 0\n",
    "        while True:\n",
    "            run_size_buf = s.peek(i)\n",
    "            if run_size_buf.bin in lookup:\n",
    "                run_size = lookup[run_size_buf.bin]\n",
    "                s.read(i)\n",
    "                break\n",
    "            i += 1\n",
    "\n",
    "        if run_size == 0:\n",
    "            break\n",
    "\n",
    "        run = (run_size - 1) // 10\n",
    "        size = (run_size - 1) % 10 + 1\n",
    "\n",
    "        while run > 0:\n",
    "            out[c] = 0\n",
    "            run -= 1\n",
    "            c += 1\n",
    "\n",
    "        if size > 0:\n",
    "            ac = s.read(size).uint\n",
    "            ac = ac if ac >= (1 << (size-1)) else (ac - (1 << (size)) + 1)\n",
    "            out[c] = ac\n",
    "\n",
    "        c += 1\n",
    "\n",
    "    return out\n",
    "\n",
    "def entropy_decode_block(s: BitStream, luma: bool) -> np.ndarray:\n",
    "    z = np.zeros(16, dtype=np.int16)\n",
    "    z[0] = entropy_decode_dc(s, luma)\n",
    "    z[1:] = entropy_decode_ac(s, luma)\n",
    "    return unzigzag(z)"
   ]
  },
  {
   "cell_type": "code",
   "execution_count": null,
   "metadata": {},
   "outputs": [],
   "source": [
    "entropy_decode_block(ys.bits, True)"
   ]
  },
  {
   "cell_type": "code",
   "execution_count": null,
   "metadata": {},
   "outputs": [],
   "source": [
    "def decode_plane(s: BitStream, QP: int, luma: bool) -> np.ndarray:\n",
    "    if luma:\n",
    "        height, width = 720, 1280\n",
    "    else:\n",
    "        height, width = 360, 640\n",
    "    h_blocks, w_blocks = height // 4, width // 4\n",
    "    blocks = np.zeros((h_blocks*w_blocks, 4, 4), dtype=np.int16)\n",
    "    for i in range(h_blocks*w_blocks):\n",
    "        blocks[i] = entropy_decode_block(s, luma)\n",
    "    blocks[1:,0,0] = blocks[1:,0,0] + np.cumsum(blocks[:-1,0,0])\n",
    "    output = inverse_transform(blocks, QP)\n",
    "    result = output.reshape(h_blocks, w_blocks, 4, 4)\n",
    "    result = result.transpose(0, 2, 1, 3).reshape(height, width).astype(np.uint8)\n",
    "    return result\n",
    "\n",
    "def decode_frame(s: BitStream, QP: int) -> np.ndarray:\n",
    "    y = decode_plane(s, QP, True)\n",
    "    u = decode_plane(s, QP, False)\n",
    "    v = decode_plane(s, QP, False)\n",
    "    return yuv2rgb(y,u,v)"
   ]
  },
  {
   "cell_type": "code",
   "execution_count": null,
   "metadata": {},
   "outputs": [],
   "source": [
    "D = decode_frame(E.bits, 24)"
   ]
  },
  {
   "cell_type": "code",
   "execution_count": null,
   "metadata": {},
   "outputs": [],
   "source": [
    "plt.matshow(D)"
   ]
  },
  {
   "cell_type": "code",
   "execution_count": null,
   "metadata": {},
   "outputs": [],
   "source": []
  }
 ],
 "metadata": {
  "kernelspec": {
   "display_name": ".venv",
   "language": "python",
   "name": "python3"
  },
  "language_info": {
   "codemirror_mode": {
    "name": "ipython",
    "version": 3
   },
   "file_extension": ".py",
   "mimetype": "text/x-python",
   "name": "python",
   "nbconvert_exporter": "python",
   "pygments_lexer": "ipython3",
   "version": "3.12.5"
  }
 },
 "nbformat": 4,
 "nbformat_minor": 2
}
